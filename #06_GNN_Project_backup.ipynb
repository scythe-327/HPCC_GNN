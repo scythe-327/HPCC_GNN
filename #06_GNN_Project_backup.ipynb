{
 "cells": [
  {
   "attachments": {},
   "cell_type": "markdown",
   "metadata": {},
   "source": [
    "-This note book is the iterartion 06 of the HPCC_GNN_Project-\n",
    "\n",
    "\n",
    "1.Here we made use of matplotlib.pyplot to get the numpy tensors\n"
   ]
  },
  {
   "cell_type": "code",
   "execution_count": null,
   "metadata": {},
   "outputs": [],
   "source": [
    "import io\n",
    "from PIL import Image\n",
    "import binascii\n",
    "import numpy as np\n",
    "import matplotlib.pyplot as plt\n"
   ]
  },
  {
   "cell_type": "code",
   "execution_count": 10,
   "metadata": {},
   "outputs": [
    {
     "name": "stdout",
     "output_type": "stream",
     "text": [
      "<PIL.PngImagePlugin.PngImageFile image mode=RGBA size=450x450 at 0x236365E9F90>\n",
      "RGBA\n"
     ]
    }
   ],
   "source": [
    "# img=Image.open(\"C:/Users/rohan/Pictures/Camera Roll/X13_wallpaper_final_16x9_FHD.jpg\")\n",
    "img=Image.open(\"C:/Users/rohan/Desktop/uktkjxhcb/sampleFormats/qrcode_drive.google.com.png\")\n",
    "print(img)\n",
    "print(img.mode)\n"
   ]
  },
  {
   "cell_type": "code",
   "execution_count": null,
   "metadata": {},
   "outputs": [],
   "source": [
    "# with open(\"C:/Users/rohan/Pictures/Camera Roll/X13_wallpaper_final_16x9_FHD.jpg\", \"rb\") as f:\n",
    "with open(\"C:/Users/rohan/Desktop/uktkjxhcb/sampleFormats/qrcode_drive.google.com.png\", 'rb') as f:\n",
    "    compressed_data = f.read()"
   ]
  },
  {
   "cell_type": "code",
   "execution_count": null,
   "metadata": {},
   "outputs": [],
   "source": [
    "image = plt.imread(io.BytesIO(compressed_data))\n",
    "np_array = np.array(image)\n",
    "print(np_array.shape)\n",
    "print(np_array)"
   ]
  },
  {
   "attachments": {},
   "cell_type": "markdown",
   "metadata": {},
   "source": [
    "similarly for jpeg"
   ]
  },
  {
   "cell_type": "code",
   "execution_count": 11,
   "metadata": {},
   "outputs": [
    {
     "name": "stdout",
     "output_type": "stream",
     "text": [
      "<PIL.JpegImagePlugin.JpegImageFile image mode=RGB size=1920x1080 at 0x236365E9660>\n",
      "RGB\n"
     ]
    }
   ],
   "source": [
    "img=Image.open(\"C:/Users/rohan/Pictures/Camera Roll/X13_wallpaper_final_16x9_FHD.jpg\")\n",
    "# img=Image.open(\"C:/Users/rohan/Desktop/uktkjxhcb/sampleFormats/qrcode_drive.google.com.png\")\n",
    "print(img)\n",
    "print(img.mode)"
   ]
  },
  {
   "cell_type": "code",
   "execution_count": 18,
   "metadata": {},
   "outputs": [
    {
     "data": {
      "image/png": "[encoded data removed]",
      "text/plain": [
       "<Figure size 432x288 with 1 Axes>"
      ]
     },
     "metadata": {
      "needs_background": "light"
     },
     "output_type": "display_data"
    },
    {
     "name": "stdout",
     "output_type": "stream",
     "text": [
      "(1920, 1080, 3)\n"
     ]
    }
   ],
   "source": [
    "with open(\"C:/Users/rohan/Desktop/uktkjxhcb/sampleFormats/902587.jpg\", \"rb\") as image_file:\n",
    "    image_hex = binascii.hexlify(image_file.read())\n",
    "binary_data = binascii.unhexlify(image_hex)\n",
    "image = Image.open(io.BytesIO(binary_data))\n",
    "# Use matplotlib to display the image and obtain a numpy array\n",
    "plt.imshow(image)\n",
    "plt.show()\n",
    "np_array = np.array(image)\n",
    "print(np_array.shape)"
   ]
  }
 ],
 "metadata": {
  "kernelspec": {
   "display_name": "Python 3",
   "language": "python",
   "name": "python3"
  },
  "language_info": {
   "codemirror_mode": {
    "name": "ipython",
    "version": 3
   },
   "file_extension": ".py",
   "mimetype": "text/x-python",
   "name": "python",
   "nbconvert_exporter": "python",
   "pygments_lexer": "ipython3",
   "version": "3.10.0"
  },
  "orig_nbformat": 4,
  "vscode": {
   "interpreter": {
    "hash": "2df843c941f79df9e69f91b658b4d4be4d92f3def93dd0da850d78359da877b1"
   }
  }
 },
 "nbformat": 4,
 "nbformat_minor": 2
}
