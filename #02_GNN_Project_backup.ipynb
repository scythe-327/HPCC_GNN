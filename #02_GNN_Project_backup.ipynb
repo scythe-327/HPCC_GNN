{
 "cells": [
  {
   "attachments": {},
   "cell_type": "markdown",
   "metadata": {},
   "source": [
    "-This note book is the iterartion 02 of the HPCC_GNN_Project-\n",
    "\n",
    "1.Struct.unpack  is used to strip the headers, this can be done by extracting the pixel data present in the IDTA chunk of the png image.\n",
    "\n",
    "2.A manual function is written therfore ensures a higher control over the data"
   ]
  },
  {
   "cell_type": "code",
   "execution_count": 16,
   "metadata": {},
   "outputs": [],
   "source": [
    "import io\n",
    "from PIL import Image\n",
    "import binascii\n",
    "import numpy as np\n",
    "\n",
    "from io import BytesIO\n"
   ]
  },
  {
   "attachments": {},
   "cell_type": "markdown",
   "metadata": {},
   "source": [
    "Since the blob spraying returns the hex data of an image , we are trying to simulate the same by using io and Pil library. (In this note book we have used a png format)"
   ]
  },
  {
   "cell_type": "code",
   "execution_count": null,
   "metadata": {},
   "outputs": [],
   "source": [
    "# img=Image.open(\"C:/Users/rohan/Pictures/Camera Roll/X13_wallpaper_final_16x9_FHD.jpg\")\n",
    "img=Image.open(\"C:/Users/rohan/Pictures/Saved Pictures/img01.png\")\n",
    "print(img)\n"
   ]
  },
  {
   "attachments": {},
   "cell_type": "markdown",
   "metadata": {},
   "source": [
    "Uing hexlify() imported from binascii library to obtain the hex data of the image."
   ]
  },
  {
   "cell_type": "code",
   "execution_count": 18,
   "metadata": {},
   "outputs": [
    {
     "name": "stdout",
     "output_type": "stream",
     "text": [
      "b'89504e470d0a1a0a0000000d49484452000007d0000004b0080300000094fa218c0000000467414d410000b18f0bfc6105000000017352474200aece1ce900000300504c54450000002813183b3340332934260e12250c0f271015352d3a03020201010138303d240a0d0706070703043d3541362e3b23080b050405240d113f384448414d332a363a323e090506250f14352e3a3e3743372f3c3227332a161c433c480d07093226314d47520c0b0c1f0f140d0507312530504a54362a3413080b0a090a342c38110f11423c4710090c413a46534d5798979a130b0f190d101007081a10159695984f485467636b26121747404b382e383428320f0d0f2d1b22726e75443e49838084787379888689908e9149434e463e4a17090c2207091d0c106f6b736460684b444f30242e59545d2d20288e8c8f2d1d25160e129e9d9f1d1419868387413a44241f29372c36514b5621171c94929494939779767a8a888b2b181f2d222c13121326161c605b645e596257525b2e28335d5860302a368c8a8d625d657572794b46503c313a17131a453a4222121856505a1615162221226a666d919094231a2069666a5b565f1b090c74707728222d2a25302819203f353f2c26326c6770210c10191819a2a2a3544f587d797e9c9b9e3d333d271d241f1e1f8381871e1922201b24301e24221d2727212b1c1b1c322d376d6a717e7b7f7f7c82a5a4a632212869616614101679777d817e809b999b3a2f3a2524257c777c302f301c171f9e9ea119151d473c43807e842c2c2d291f27a8a8aaa09fa22928293e3d3e383738463d4641384143373e44434435252b706e72726a774140413332338d8d92605f606b62703b3a3b78717d5c5b5c766d7b5d55634a3f464a494a474647ababae36323b5554554f4e4f3c2e3538293098989d6564655a5260574f5d6f6674605866625b685857588a8a8f4b4251525152655d6b87868d36343684848a655d6268606d4c41487b7a817c7480544b5aa2a0a661585d88818d4c4c4d5d54596c6b6c554b51756f728c86'\n"
     ]
    }
   ],
   "source": [
    "# with open(\"C:/Users/rohan/Pictures/Camera Roll/X13_wallpaper_final_16x9_FHD.jpg\", \"rb\") as image_file:\n",
    "with open(\"C:/Users/rohan/Pictures/Saved Pictures/img01.png\", \"rb\") as image_file:\n",
    "    image_hex = binascii.hexlify(image_file.read())\n",
    "    # print(image_he\n",
    "    print(image_hex[:1500])\n",
    "    "
   ]
  },
  {
   "attachments": {},
   "cell_type": "markdown",
   "metadata": {},
   "source": [
    "The hex data into binary data using unhexlify() function."
   ]
  },
  {
   "cell_type": "code",
   "execution_count": 19,
   "metadata": {},
   "outputs": [],
   "source": [
    "import binascii\n",
    "import struct\n",
    "binary_data = binascii.unhexlify(image_hex)\n",
    "#\n",
    "signature = binary_data[0:8]\n",
    "if signature != b'\\x89PNG\\r\\n\\x1a\\n':\n",
    "    raise ValueError(\"Invalid PNG data\")\n",
    "\n"
   ]
  },
  {
   "attachments": {},
   "cell_type": "markdown",
   "metadata": {},
   "source": [
    "Search for the IHDR chunk\n"
   ]
  },
  {
   "cell_type": "code",
   "execution_count": 5,
   "metadata": {},
   "outputs": [
    {
     "name": "stdout",
     "output_type": "stream",
     "text": [
      "13 \t b'IHDR' \t 8\n"
     ]
    }
   ],
   "source": [
    "index = 8\n",
    "while index < len(binary_data):\n",
    "    # Extract the chunk length,\n",
    "    #  After the chunk length is extracted using struct.unpack, the chunk type is extracted using slicing: chunk_type = binary_data[index+4:index+8].\n",
    "    chunk_length, = struct.unpack(\"!I\", binary_data[index:index+4])\n",
    "    chunk_type = binary_data[index+4:index+8]\n",
    "    if chunk_type == b'IHDR':\n",
    "        break\n",
    "    else:\n",
    "        # Skip over this chunk\n",
    "        index += chunk_length + 12\n",
    "print(chunk_length,\"\\t\",chunk_type,\"\\t\",index)\n",
    "\n"
   ]
  },
  {
   "attachments": {},
   "cell_type": "markdown",
   "metadata": {},
   "source": [
    "Extract the image dimensions from the IHDR chunk.\n"
   ]
  },
  {
   "cell_type": "code",
   "execution_count": 20,
   "metadata": {},
   "outputs": [
    {
     "name": "stdout",
     "output_type": "stream",
     "text": [
      "2027607194 \t 3213794376\n"
     ]
    }
   ],
   "source": [
    "width, height = struct.unpack(\"!II\", binary_data[index+8:index+16])\n",
    "print(width,\"\\t\",height)\n"
   ]
  },
  {
   "attachments": {},
   "cell_type": "markdown",
   "metadata": {},
   "source": [
    "Using the struct data to strip off headers"
   ]
  },
  {
   "attachments": {},
   "cell_type": "markdown",
   "metadata": {},
   "source": [
    "Once the chunk type is found to be IDAT, we can extract the actual image data from the binary data. This is done by slicing the binary data from the position index + 8 to the position index + 8 + chunk_length. The reason we start from index + 8 is because the PNG chunk structure consists of:\n",
    "\n",
    "4 bytes for the chunk length\n",
    "4 bytes for the chunk type\n",
    "chunk_length bytes for the chunk data\n",
    "4 bytes for the chunk crc   \n",
    "So the actual image data starts at the position index + 8, which is 4 bytes after the chunk length and 4 bytes after the chunk type. The end position is index + 8 + chunk_length, which is chunk_length bytes after the start position."
   ]
  },
  {
   "cell_type": "code",
   "execution_count": null,
   "metadata": {},
   "outputs": [],
   "source": [
    "# loop through the dat till we find the IDAT chunk (a chunk where the actual pixel image data start)\n",
    "while index < len(binary_data):\n",
    "    chunk_length, = struct.unpack('!I', binary_data[index:index+4])\n",
    "    chunk_type = binary_data[index+4:index+8]\n",
    "    if chunk_type == b'IDAT':\n",
    "        # Found the IDAT chunk\n",
    "        image_data = binary_data[index+8:index+8+chunk_length]\n",
    "        break\n",
    "    index += chunk_length + 12\n",
    "print(image_data)"
   ]
  },
  {
   "attachments": {},
   "cell_type": "markdown",
   "metadata": {},
   "source": [
    "As we can see the data has been stripped bcz thereis an error thrown that it cant identify the image file"
   ]
  },
  {
   "cell_type": "code",
   "execution_count": 8,
   "metadata": {},
   "outputs": [
    {
     "ename": "UnidentifiedImageError",
     "evalue": "cannot identify image file <_io.BytesIO object at 0x00000222F82AC950>",
     "output_type": "error",
     "traceback": [
      "\u001b[1;31m---------------------------------------------------------------------------\u001b[0m",
      "\u001b[1;31mUnidentifiedImageError\u001b[0m                    Traceback (most recent call last)",
      "\u001b[1;32m~\\AppData\\Local\\Temp/ipykernel_11916/275715891.py\u001b[0m in \u001b[0;36m<module>\u001b[1;34m\u001b[0m\n\u001b[0;32m      2\u001b[0m     \u001b[1;32mwith\u001b[0m \u001b[0mImage\u001b[0m\u001b[1;33m.\u001b[0m\u001b[0mopen\u001b[0m\u001b[1;33m(\u001b[0m\u001b[0mBytesIO\u001b[0m\u001b[1;33m(\u001b[0m\u001b[0mimage_data\u001b[0m\u001b[1;33m)\u001b[0m\u001b[1;33m)\u001b[0m \u001b[1;32mas\u001b[0m \u001b[0mim\u001b[0m\u001b[1;33m:\u001b[0m\u001b[1;33m\u001b[0m\u001b[1;33m\u001b[0m\u001b[0m\n\u001b[0;32m      3\u001b[0m         \u001b[1;32mreturn\u001b[0m \u001b[0mnp\u001b[0m\u001b[1;33m.\u001b[0m\u001b[0marray\u001b[0m\u001b[1;33m(\u001b[0m\u001b[0mim\u001b[0m\u001b[1;33m)\u001b[0m\u001b[1;33m\u001b[0m\u001b[1;33m\u001b[0m\u001b[0m\n\u001b[1;32m----> 4\u001b[1;33m \u001b[0mstripped_image_array1\u001b[0m \u001b[1;33m=\u001b[0m \u001b[0mstrip_headers\u001b[0m\u001b[1;33m(\u001b[0m\u001b[0mimage_data\u001b[0m\u001b[1;33m)\u001b[0m\u001b[1;33m\u001b[0m\u001b[1;33m\u001b[0m\u001b[0m\n\u001b[0m\u001b[0;32m      5\u001b[0m \u001b[0mimage\u001b[0m \u001b[1;33m=\u001b[0m \u001b[0mnp\u001b[0m\u001b[1;33m.\u001b[0m\u001b[0mfrombuffer\u001b[0m\u001b[1;33m(\u001b[0m\u001b[0mimage_data\u001b[0m\u001b[1;33m,\u001b[0m \u001b[0mnp\u001b[0m\u001b[1;33m.\u001b[0m\u001b[0muint8\u001b[0m\u001b[1;33m)\u001b[0m\u001b[1;33m\u001b[0m\u001b[1;33m\u001b[0m\u001b[0m\n\u001b[0;32m      6\u001b[0m \u001b[0mprint\u001b[0m\u001b[1;33m(\u001b[0m\u001b[0mimage\u001b[0m\u001b[1;33m)\u001b[0m\u001b[1;33m\u001b[0m\u001b[1;33m\u001b[0m\u001b[0m\n",
      "\u001b[1;32m~\\AppData\\Local\\Temp/ipykernel_11916/275715891.py\u001b[0m in \u001b[0;36mstrip_headers\u001b[1;34m(image_data)\u001b[0m\n\u001b[0;32m      1\u001b[0m \u001b[1;32mdef\u001b[0m \u001b[0mstrip_headers\u001b[0m\u001b[1;33m(\u001b[0m\u001b[0mimage_data\u001b[0m\u001b[1;33m)\u001b[0m\u001b[1;33m:\u001b[0m\u001b[1;33m\u001b[0m\u001b[1;33m\u001b[0m\u001b[0m\n\u001b[1;32m----> 2\u001b[1;33m     \u001b[1;32mwith\u001b[0m \u001b[0mImage\u001b[0m\u001b[1;33m.\u001b[0m\u001b[0mopen\u001b[0m\u001b[1;33m(\u001b[0m\u001b[0mBytesIO\u001b[0m\u001b[1;33m(\u001b[0m\u001b[0mimage_data\u001b[0m\u001b[1;33m)\u001b[0m\u001b[1;33m)\u001b[0m \u001b[1;32mas\u001b[0m \u001b[0mim\u001b[0m\u001b[1;33m:\u001b[0m\u001b[1;33m\u001b[0m\u001b[1;33m\u001b[0m\u001b[0m\n\u001b[0m\u001b[0;32m      3\u001b[0m         \u001b[1;32mreturn\u001b[0m \u001b[0mnp\u001b[0m\u001b[1;33m.\u001b[0m\u001b[0marray\u001b[0m\u001b[1;33m(\u001b[0m\u001b[0mim\u001b[0m\u001b[1;33m)\u001b[0m\u001b[1;33m\u001b[0m\u001b[1;33m\u001b[0m\u001b[0m\n\u001b[0;32m      4\u001b[0m \u001b[0mstripped_image_array1\u001b[0m \u001b[1;33m=\u001b[0m \u001b[0mstrip_headers\u001b[0m\u001b[1;33m(\u001b[0m\u001b[0mimage_data\u001b[0m\u001b[1;33m)\u001b[0m\u001b[1;33m\u001b[0m\u001b[1;33m\u001b[0m\u001b[0m\n\u001b[0;32m      5\u001b[0m \u001b[0mimage\u001b[0m \u001b[1;33m=\u001b[0m \u001b[0mnp\u001b[0m\u001b[1;33m.\u001b[0m\u001b[0mfrombuffer\u001b[0m\u001b[1;33m(\u001b[0m\u001b[0mimage_data\u001b[0m\u001b[1;33m,\u001b[0m \u001b[0mnp\u001b[0m\u001b[1;33m.\u001b[0m\u001b[0muint8\u001b[0m\u001b[1;33m)\u001b[0m\u001b[1;33m\u001b[0m\u001b[1;33m\u001b[0m\u001b[0m\n",
      "\u001b[1;32mc:\\Users\\rohan\\lib\\site-packages\\PIL\\Image.py\u001b[0m in \u001b[0;36mopen\u001b[1;34m(fp, mode, formats)\u001b[0m\n\u001b[0;32m   3028\u001b[0m     \u001b[1;32mfor\u001b[0m \u001b[0mmessage\u001b[0m \u001b[1;32min\u001b[0m \u001b[0maccept_warnings\u001b[0m\u001b[1;33m:\u001b[0m\u001b[1;33m\u001b[0m\u001b[1;33m\u001b[0m\u001b[0m\n\u001b[0;32m   3029\u001b[0m         \u001b[0mwarnings\u001b[0m\u001b[1;33m.\u001b[0m\u001b[0mwarn\u001b[0m\u001b[1;33m(\u001b[0m\u001b[0mmessage\u001b[0m\u001b[1;33m)\u001b[0m\u001b[1;33m\u001b[0m\u001b[1;33m\u001b[0m\u001b[0m\n\u001b[1;32m-> 3030\u001b[1;33m     raise UnidentifiedImageError(\n\u001b[0m\u001b[0;32m   3031\u001b[0m         \u001b[1;34m\"cannot identify image file %r\"\u001b[0m \u001b[1;33m%\u001b[0m \u001b[1;33m(\u001b[0m\u001b[0mfilename\u001b[0m \u001b[1;32mif\u001b[0m \u001b[0mfilename\u001b[0m \u001b[1;32melse\u001b[0m \u001b[0mfp\u001b[0m\u001b[1;33m)\u001b[0m\u001b[1;33m\u001b[0m\u001b[1;33m\u001b[0m\u001b[0m\n\u001b[0;32m   3032\u001b[0m     )\n",
      "\u001b[1;31mUnidentifiedImageError\u001b[0m: cannot identify image file <_io.BytesIO object at 0x00000222F82AC950>"
     ]
    }
   ],
   "source": [
    "def strip_headers(image_data):\n",
    "    with Image.open(BytesIO(image_data)) as im:\n",
    "        return np.array(im)\n",
    "stripped_image_array1 = strip_headers(image_data)\n",
    "image = np.frombuffer(image_data, np.uint8)\n",
    "print(image)"
   ]
  }
 ],
 "metadata": {
  "kernelspec": {
   "display_name": "Python 3",
   "language": "python",
   "name": "python3"
  },
  "language_info": {
   "codemirror_mode": {
    "name": "ipython",
    "version": 3
   },
   "file_extension": ".py",
   "mimetype": "text/x-python",
   "name": "python",
   "nbconvert_exporter": "python",
   "pygments_lexer": "ipython3",
   "version": "3.10.0"
  },
  "orig_nbformat": 4,
  "vscode": {
   "interpreter": {
    "hash": "2df843c941f79df9e69f91b658b4d4be4d92f3def93dd0da850d78359da877b1"
   }
  }
 },
 "nbformat": 4,
 "nbformat_minor": 2
}
