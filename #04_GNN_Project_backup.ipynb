{
 "cells": [
  {
   "attachments": {},
   "cell_type": "markdown",
   "metadata": {},
   "source": [
    "-This note book is the iterartion 04 of the HPCC_GNN_Project-\n",
    "\n",
    "References:https://www.ece.ualberta.ca/~elliott/ee552/studentAppNotes/2003_w/misc/bmp_file_format/bmp_file_format.htm\n",
    "\n",
    "1.Image type being processed is BMP\n",
    "\n",
    "2.A manual function using struct.unpack is written which ensures a higher control over the data\n",
    "\n",
    "3.The main aim is to extract the pixel data from the hexdata generated from spraying the data.\n",
    "\n"
   ]
  },
  {
   "attachments": {},
   "cell_type": "markdown",
   "metadata": {},
   "source": [
    "The MS-Windows standard format is BMP and was developed as a device-independent bitmap (DIB) format that will allow Windows to display the bitmap on any type of display device. The term \"device independent\" means that the bitmap specifies pixel color in a form independent of the method used by a display to represent color. This file format can be stored uncompressed, so reading BMP files is fairly simple; most other graphics formats are compressed, and some, like GIF, are difficult to decompress."
   ]
  },
  {
   "cell_type": "code",
   "execution_count": null,
   "metadata": {},
   "outputs": [],
   "source": []
  },
  {
   "cell_type": "code",
   "execution_count": 2,
   "metadata": {},
   "outputs": [],
   "source": [
    "import io\n",
    "import struct\n",
    "from PIL import Image\n",
    "import binascii\n",
    "import numpy as np\n",
    "from io import BytesIO\n"
   ]
  },
  {
   "attachments": {},
   "cell_type": "markdown",
   "metadata": {},
   "source": [
    "Since the blob spraying returns the hex data of an image , we are trying to simulate the same by using io and Pil library. (In this note book we have used a BMP format)"
   ]
  },
  {
   "cell_type": "code",
   "execution_count": 3,
   "metadata": {},
   "outputs": [
    {
     "name": "stdout",
     "output_type": "stream",
     "text": [
      "<PIL.BmpImagePlugin.BmpImageFile image mode=RGB size=1920x1280 at 0x27D7CAF0D60>\n"
     ]
    }
   ],
   "source": [
    "# img=Image.open(\"C:/Users/rohan/Pictures/Camera Roll/X13_wallpaper_final_16x9_FHD.jpg\")\n",
    "img=Image.open(\"C:/Users/rohan/Desktop/uktkjxhcb/sampleFormats/sample_1920x1280_BMP.bmp\")\n",
    "print(img)\n"
   ]
  },
  {
   "attachments": {},
   "cell_type": "markdown",
   "metadata": {},
   "source": [
    "Uing hexlify() imported from binascii library to obtain the hex data of the image."
   ]
  },
  {
   "cell_type": "code",
   "execution_count": 4,
   "metadata": {},
   "outputs": [
    {
     "name": "stdout",
     "output_type": "stream",
     "text": [
      "b'424d8a807000000000008a0000007c0000008007000000050000010018000000000000807000000000000000000000000000000000000000ff0000ff0000ff000000000000ff4247527380c2f52860b81e152085eb01403333138066662640666606a09999093c0ad703245c8f32000000000000000000000000040000000000000000000000000000000907070200000806060c0a0a0202020a0a0a0e0e0e0606060303030808080a08080301010400000904050b05060601020301010808080d0d0d0b0b0b0806060604040705050907070a0808090707060606040606040606020706030807040809000407060a0f090c10090d0e0e0d0f0a0a0a0806050b09080c08070c08070a08070a08070809070708060204040002020b080a0500011204080c0306060a0b000e0d0d2220101e1d09080a130c0f1d161b13121600040901070c130c130c060b09080a050a09070c0b090e0d0c110f0f1412141715161917191a181f201e2222221b1b1b1110120b0a0c0c080d0d090e0e0d110d0c10110d12120e13130e100f0a0c0d08090d08090805070000010c0a1006090e01030d00030c070d18050e181d27314b5a63566e7a1c3c470f3743022d36001f29042128001217030c0f0c080d130c0f1a0e14170d131209130e0a10080c0d030908020706060b0a0e0e0e0e0e0e0f0a0b0d0809130e0f1914151e191a1d1819141212100e0e101010141414130d12140e130b06080c07090d080a0c0709100d0f0d0a0c08060606040407080610110f1314120e0f0d0b0c0a0b0c0a0b0e0c0f12100b0c0a0708060d0b0b0806060401030d0a0c060507090b0c060809000506020708010909030d0d1016151516121b161311090913080b1d1319120a14070913030d1700070f0a242a001a1e1731311a2a29131a1715120e110c090d1210070f0e090e0d0c0e0e110f0e130f0e1712111a16151a15160909090e13160f181b000e1401141910262c0522260e323234595700141422343511171c080b1003060e0c141b13232923393e274449234045'\n"
     ]
    }
   ],
   "source": [
    "# with open(\"C:/Users/rohan/Pictures/Camera Roll/X13_wallpaper_final_16x9_FHD.jpg\", \"rb\") as image_file:\n",
    "with open(\"C:/Users/rohan/Desktop/uktkjxhcb/sampleFormats/sample_1920x1280_BMP.bmp\", \"rb\") as image_file:\n",
    "    image_hex = binascii.hexlify(image_file.read())\n",
    "    # print(image_hex)\n",
    "    print(image_hex[:1500])\n",
    "    "
   ]
  },
  {
   "attachments": {},
   "cell_type": "markdown",
   "metadata": {},
   "source": [
    "The hex data into binary data using unhexlify() function."
   ]
  },
  {
   "cell_type": "code",
   "execution_count": 5,
   "metadata": {},
   "outputs": [],
   "source": [
    "binary_data = binascii.unhexlify(image_hex)\n"
   ]
  },
  {
   "attachments": {},
   "cell_type": "markdown",
   "metadata": {},
   "source": [
    "struct.unpack returns a tuple, even if it contains only one value\n",
    "\n",
    "And hence we need to compare it individually\n",
    "\n",
    "The BMP format uses the two-byte sequence 0x42 0x4D"
   ]
  },
  {
   "cell_type": "code",
   "execution_count": 6,
   "metadata": {},
   "outputs": [
    {
     "name": "stdout",
     "output_type": "stream",
     "text": [
      "True\n"
     ]
    }
   ],
   "source": [
    "\n",
    "\n",
    "def is_bitmap(image_hex):\n",
    "    bmp_signature = b'BM'\n",
    "    unpacked_signature = struct.unpack(\"2B\", binary_data[:2])\n",
    "    return bytes([unpacked_signature[0]]) == bmp_signature[:1] and bytes([unpacked_signature[1]]) == bmp_signature[1:]\n",
    "\n",
    "# Example usage\n",
    "\n",
    "print(is_bitmap(image_hex))\n"
   ]
  },
  {
   "attachments": {},
   "cell_type": "markdown",
   "metadata": {},
   "source": [
    "Pixels are stored \"upside-down\" with respect to normal image raster scan order, starting in the lower left corner, going from left to right, and then row by row from the bottom to the top of the image.2 Uncompressed Windows bitmaps can also be stored from the top row to the bottom, if the image height value is negative.(https://grapherhelp.goldensoftware.com/subsys/subsys_bitmap_file_description.htm)\n",
    "\n",
    "struct unpack is used to extract these header in the form of \"<IHHIIIIIIII \""
   ]
  },
  {
   "cell_type": "code",
   "execution_count": 12,
   "metadata": {},
   "outputs": [
    {
     "name": "stdout",
     "output_type": "stream",
     "text": [
      "b'\\x00\\x00\\x00\\x00\\x00\\x00\\x00\\x00\\x00\\x00\\x04\\x00\\x00\\x00\\x00\\x00\\x00\\x00\\x00\\x00\\x00\\x00\\x00\\x00\\x00\\x00\\t\\x07\\x07\\x02\\x00\\x00\\x08\\x06\\x06\\x0c\\n\\n\\x02\\x02\\x02\\n\\n\\n\\x0e\\x0e\\x0e\\x06\\x06\\x06\\x03\\x03\\x03\\x08\\x08\\x08\\n\\x08\\x08\\x03\\x01\\x01\\x04\\x00\\x00\\t\\x04\\x05\\x0b\\x05\\x06\\x06\\x01\\x02\\x03\\x01\\x01\\x08\\x08\\x08\\r\\r\\r\\x0b\\x0b\\x0b\\x08\\x06\\x06\\x06\\x04\\x04\\x07\\x05\\x05\\t\\x07\\x07\\n\\x08\\x08\\t\\x07\\x07\\x06\\x06\\x06\\x04\\x06\\x06\\x04\\x06\\x06\\x02\\x07\\x06\\x03\\x08\\x07\\x04\\x08\\t\\x00\\x04\\x07\\x06\\n\\x0f\\t\\x0c\\x10\\t\\r\\x0e\\x0e\\r\\x0f\\n\\n\\n\\x08\\x06\\x05\\x0b\\t\\x08\\x0c\\x08\\x07\\x0c\\x08\\x07\\n\\x08\\x07\\n\\x08\\x07\\x08\\t\\x07\\x07\\x08\\x06\\x02\\x04\\x04\\x00\\x02\\x02\\x0b\\x08\\n\\x05\\x00\\x01\\x12\\x04\\x08\\x0c\\x03\\x06\\x06\\n\\x0b\\x00\\x0e\\r\\r\" \\x10\\x1e\\x1d\\t\\x08\\n\\x13\\x0c\\x0f\\x1d\\x16\\x1b\\x13\\x12\\x16\\x00\\x04\\t\\x01\\x07\\x0c\\x13\\x0c\\x13\\x0c\\x06\\x0b\\t\\x08\\n\\x05\\n\\t\\x07\\x0c\\x0b\\t\\x0e\\r\\x0c\\x11\\x0f\\x0f\\x14\\x12\\x14\\x17\\x15\\x16\\x19\\x17\\x19\\x1a\\x18\\x1f \\x1e\"\"\"\\x1b\\x1b\\x1b\\x11\\x10\\x12\\x0b\\n\\x0c\\x0c\\x08\\r\\r\\t\\x0e\\x0e\\r\\x11\\r\\x0c\\x10\\x11\\r\\x12\\x12\\x0e\\x13\\x13\\x0e\\x10\\x0f\\n\\x0c\\r\\x08\\t\\r\\x08\\t\\x08\\x05\\x07\\x00\\x00\\x01\\x0c\\n\\x10\\x06\\t\\x0e\\x01\\x03\\r\\x00\\x03\\x0c\\x07\\r\\x18\\x05\\x0e\\x18\\x1d\\'1KZcVnz\\x1c<G\\x0f7C\\x02-6\\x00\\x1f)\\x04!(\\x00\\x12\\x17\\x03\\x0c\\x0f\\x0c\\x08\\r\\x13\\x0c\\x0f\\x1a\\x0e\\x14\\x17\\r\\x13\\x12\\t\\x13\\x0e\\n\\x10\\x08\\x0c\\r\\x03\\t\\x08\\x02\\x07\\x06\\x06\\x0b\\n\\x0e\\x0e\\x0e\\x0e\\x0e\\x0e\\x0f\\n\\x0b\\r\\x08\\t\\x13\\x0e\\x0f\\x19\\x14\\x15\\x1e\\x19\\x1a\\x1d\\x18\\x19\\x14\\x12\\x12\\x10\\x0e\\x0e\\x10\\x10\\x10\\x14\\x14\\x14\\x13\\r\\x12\\x14\\x0e\\x13\\x0b\\x06\\x08\\x0c\\x07\\t\\r\\x08\\n\\x0c\\x07\\t\\x10\\r\\x0f\\r\\n\\x0c\\x08\\x06\\x06\\x06\\x04\\x04\\x07\\x08\\x06\\x10\\x11\\x0f\\x13\\x14\\x12\\x0e\\x0f\\r\\x0b\\x0c\\n\\x0b\\x0c\\n\\x0b\\x0e\\x0c\\x0f\\x12\\x10\\x0b\\x0c\\n\\x07\\x08\\x06\\r\\x0b\\x0b\\x08\\x06\\x06\\x04\\x01\\x03\\r\\n\\x0c\\x06\\x05\\x07\\t\\x0b\\x0c\\x06\\x08\\t\\x00\\x05\\x06\\x02\\x07\\x08\\x01\\t\\t\\x03\\r\\r\\x10\\x16\\x15\\x15\\x16\\x12\\x1b\\x16\\x13\\x11\\t\\t\\x13\\x08\\x0b\\x1d\\x13\\x19\\x12\\n\\x14\\x07\\t\\x13\\x03\\r\\x17\\x00\\x07\\x0f\\n$*\\x00\\x1a\\x1e\\x1711\\x1a*)\\x13\\x1a\\x17\\x15\\x12\\x0e\\x11\\x0c\\t\\r\\x12\\x10\\x07\\x0f\\x0e\\t\\x0e\\r\\x0c\\x0e\\x0e\\x11\\x0f\\x0e\\x13\\x0f\\x0e\\x17\\x12\\x11\\x1a\\x16\\x15\\x1a\\x15\\x16\\t\\t\\t\\x0e\\x13\\x16\\x0f\\x18\\x1b\\x00\\x0e\\x14\\x01\\x14\\x19\\x10&,\\x05\"&\\x0e224YW\\x00\\x14\\x14\"45\\x11\\x17\\x1c\\x08\\x0b\\x10\\x03\\x06\\x0e\\x0c\\x14\\x1b\\x13#)#9>\\'DI#@E\\x07\\x1f%\\x0b\\x1e%\\n\\x15\\x1d\\x00\\x08\\x0f\\x00\\x08\\n\\x0b\\x17\\x17\\x04\\x11\\x13\\x12\\x1f!\\x17&(\\x02\\x11\\x13\\x04\\x13\\x16\\x0f\\x1e!\\x1d,/\\x13\"%\\x07\\x13\\x15\\x04\\r\\x10\\x00\\x08\\x08\\t\\x0e\\x0f\\x19\\x1b\\x1b\\x0c\\x11\\x10\\t\\x10\\x13\\x03\\x0c\\x0f\\x02\\x0e\\x10\\x0e\\x1a\\x1c\\x19\\'&\\x1b)(\\x11\"\\x1f\\x0c\\x1d\\x1a\\n\\x1b\\x18\\x08\\x19\\x16\\r\\x19\\x19\\x04\\x10\\x10\\x0b\\x14\\x17\\x00\\x02\\x05\\x00\\x03\\x06\\x00\\x0b\\r\\x00\\x10\\x11\\x00\\n\\x0b\\x19(*2;>\\x17\\x1c\\x1f\\x02\\x07\\n\\t\\x10\\x13\\x07\\x14\\x16\\x00\\n\\x0b\\x00\\x0e\\x0e\\x0e**9QQ\\n\\x17\\x19\\x06\\x0b\\x0e\\x16\\x10\\x15\\x0e\\x07\\n\\x0f\\x0b\\n\\x08\\x0c\\x07\\x02\\x08\\x07\\x00\\x0b\\t\\x06\\r\\x10\\x04\\t\\x0c\\x08\\x07\\x10\\x10\\x12\\x1a\\x13\\x1e&\\x05\\x1e\"\\x00\\x18\\x1a\\x07:6\\x10B>9e^B`[\\x00\\x16\\x11\\x00\\r\\x0b\\x00\\x05\\x03\\x07\\x0f\\x0f\\x03\\x0b\\x0b\\x02\\x07\\x08\\x0e\\x13\\x14\\x0f\\x16\\x19\\x19\"%\\x17\"&\\x13\"%\\x00\\x0e\\x13\\x00\\x0c\\x10\\x1a8=,OS\\n/3\\x00\\x18\\x1b\\t!!\\x04\\x16\\x15\\t\\x17\\x16\\x15#\"\\x16  \\x06\\x10\\x10\\x00\\n\\n\\x05\\x13\\x12\\x05\\x15\\x14\\t\\x1b\\x1a\\x04\\x14\\x13\\x00\\x07\\x06\\x00\\x04\\x04\\x00\\x06\\x06\\x02\\x07\\x08\\x06\\x0b\\x0c\\r\\x15\\x15\\x04\\x0e\\x0e\\x05\\x0e\\x11\\x01\\n\\r\\x06\\x0f\\x12\\x0c\\x15\\x18\\x05\\x0e\\x12\\x03\\x0c\\x10\\x07\\x10\\x13\\x01\\n\\r\\x04\\x0c\\x0c\\x03\\x0b\\x0b\\x00\\x02\\x01\\x00\\x05\\x04\\x08\\x0f\\x0c\\x00\\t\\x07\\x06\\x15\\x18\\x00\\x12\\x17\\x04\\x13\\x16\\x02\\x0e\\x12\\x04\\r'\n"
     ]
    }
   ],
   "source": [
    "def extract_pixel_data(image_hex):\n",
    "    # Unpack the header information from the binary data\n",
    "    header = struct.unpack(\"<IHHIIIIIIII\", image_hex[:40])\n",
    "    image_width = header[6]\n",
    "    image_height = header[7]\n",
    "    pixel_offset = header[10]\n",
    "# Below we are calculating the pixel data size\n",
    "# Since the BMP image must be a multiple of 4 so it will be just rounded to the nearest 4's multiple (https://stackoverflow.com/questions/15313792/what-should-we-do-with-a-bitmap-file-when-its-rowsize-isnt-multiple-of-4)\n",
    "    row_size = (image_width * 3 + 3) & ~3\n",
    "    image_size = row_size * abs(image_height)\n",
    "\n",
    "\n",
    "    pixel_data = image_hex[pixel_offset:pixel_offset + image_size]\n",
    "\n",
    "    return pixel_data\n",
    "pixel_data = extract_pixel_data(binary_data)\n",
    "# printing the first 1000 indexes of  pixel data for verification purposes\n",
    "print(pixel_data[:1000])\n"
   ]
  }
 ],
 "metadata": {
  "kernelspec": {
   "display_name": "Python 3",
   "language": "python",
   "name": "python3"
  },
  "language_info": {
   "codemirror_mode": {
    "name": "ipython",
    "version": 3
   },
   "file_extension": ".py",
   "mimetype": "text/x-python",
   "name": "python",
   "nbconvert_exporter": "python",
   "pygments_lexer": "ipython3",
   "version": "3.10.0"
  },
  "orig_nbformat": 4,
  "vscode": {
   "interpreter": {
    "hash": "2df843c941f79df9e69f91b658b4d4be4d92f3def93dd0da850d78359da877b1"
   }
  }
 },
 "nbformat": 4,
 "nbformat_minor": 2
}
